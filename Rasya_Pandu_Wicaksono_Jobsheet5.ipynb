{
  "nbformat": 4,
  "nbformat_minor": 0,
  "metadata": {
    "colab": {
      "provenance": [],
      "authorship_tag": "ABX9TyMwoLOahhAdD8JY9ul6lX2A",
      "include_colab_link": true
    },
    "kernelspec": {
      "name": "python3",
      "display_name": "Python 3"
    },
    "language_info": {
      "name": "python"
    }
  },
  "cells": [
    {
      "cell_type": "markdown",
      "metadata": {
        "id": "view-in-github",
        "colab_type": "text"
      },
      "source": [
        "<a href=\"https://colab.research.google.com/github/Rynnsya/Jobsheet-05-String-dan-Operasi-Dasar/blob/main/Rasya_Pandu_Wicaksono_Jobsheet5.ipynb\" target=\"_parent\"><img src=\"https://colab.research.google.com/assets/colab-badge.svg\" alt=\"Open In Colab\"/></a>"
      ]
    },
    {
      "cell_type": "markdown",
      "source": [
        "Praktikum 1 Indexing dan Slicing"
      ],
      "metadata": {
        "id": "39RQVv3h-GOn"
      }
    },
    {
      "cell_type": "code",
      "execution_count": null,
      "metadata": {
        "colab": {
          "base_uri": "https://localhost:8080/"
        },
        "id": "9Wymv6-G9_fu",
        "outputId": "7d7cf47f-fd31-46a2-ba60-fc0d9b8514a3"
      },
      "outputs": [
        {
          "output_type": "stream",
          "name": "stdout",
          "text": [
            "P\n",
            "Politeknik \n",
            "Semarang\n"
          ]
        }
      ],
      "source": [
        "teks = \"Politeknik Negeri Semarang\"\n",
        "\n",
        "print(teks[0])\n",
        "print(teks[0:11])\n",
        "print(teks[-8:])"
      ]
    },
    {
      "cell_type": "markdown",
      "source": [
        "Praktikum 2 Method Bawaan String"
      ],
      "metadata": {
        "id": "nWphm1KX-iCy"
      }
    },
    {
      "cell_type": "code",
      "source": [
        "teks = \" Politeknik Negeri Semarang \"\n",
        "\n",
        "print(teks.upper())\n",
        "print(teks.lower())\n",
        "print(teks.title())\n",
        "print(teks.strip())\n",
        "print(teks.split(\" \"))\n",
        "print(\"-\".join([\"Politeknik\", \"Negeri\", \"Semarang\"]))"
      ],
      "metadata": {
        "colab": {
          "base_uri": "https://localhost:8080/"
        },
        "id": "ljIKBRX_-km_",
        "outputId": "06507363-ade3-49db-f49a-de37651ab548"
      },
      "execution_count": null,
      "outputs": [
        {
          "output_type": "stream",
          "name": "stdout",
          "text": [
            " POLITEKNIK NEGERI SEMARANG \n",
            " politeknik negeri semarang \n",
            " Politeknik Negeri Semarang \n",
            "Politeknik Negeri Semarang\n",
            "['', 'Politeknik', 'Negeri', 'Semarang', '']\n",
            "Politeknik-Negeri-Semarang\n"
          ]
        }
      ]
    },
    {
      "cell_type": "markdown",
      "source": [
        "Praktikum 3 Validasi Password"
      ],
      "metadata": {
        "id": "n3du1KwU-lPN"
      }
    },
    {
      "cell_type": "code",
      "source": [
        "password = input(\"Masukkan password: \")\n",
        "\n",
        "if len(password) >= 8:\n",
        "    print(\"Password valid\")\n",
        "else:\n",
        "    print(\"Password terlalu pendek\")"
      ],
      "metadata": {
        "colab": {
          "base_uri": "https://localhost:8080/"
        },
        "id": "yxqewmWt-ntg",
        "outputId": "1f3945b0-2177-4b6a-a3b9-6ddc1bd6bbe4"
      },
      "execution_count": null,
      "outputs": [
        {
          "output_type": "stream",
          "name": "stdout",
          "text": [
            "Masukkan password: abc\n",
            "Password terlalu pendek\n"
          ]
        }
      ]
    },
    {
      "cell_type": "markdown",
      "source": [
        "Praktikum 4 String Formatting dengan F-String"
      ],
      "metadata": {
        "id": "anV_P1iu-oF2"
      }
    },
    {
      "cell_type": "code",
      "source": [
        "nama = input(\"Masukkan nama: \")\n",
        "umur = int(input(\"Masukkan umur: \"))\n",
        "\n",
        "print(f\"Nama saya {nama}, umur {umur} tahun.\")"
      ],
      "metadata": {
        "colab": {
          "base_uri": "https://localhost:8080/"
        },
        "id": "uZy59hsF-rvE",
        "outputId": "80c608c4-2080-447a-9ece-5c41447aa26d"
      },
      "execution_count": null,
      "outputs": [
        {
          "output_type": "stream",
          "name": "stdout",
          "text": [
            "Masukkan nama: Budi\n",
            "Masukkan umur: 21\n",
            "Nama saya Budi, umur 21 tahun.\n"
          ]
        }
      ]
    },
    {
      "cell_type": "markdown",
      "source": [
        "Praktikum 5 Operasi dalam F-String"
      ],
      "metadata": {
        "id": "_YPhnE3I-sKl"
      }
    },
    {
      "cell_type": "code",
      "source": [
        "a = int(input(\"Masukkan nilai a: \"))\n",
        "b = int(input(\"Masukkan nilai b: \"))\n",
        "\n",
        "print(f\"Hasil penjumlahan {a} + {b} = {a + b}\")\n",
        "print(f\"Hasil pembagian {a} / {b} = {a / b:.2f}\")"
      ],
      "metadata": {
        "colab": {
          "base_uri": "https://localhost:8080/"
        },
        "id": "Roizd_1I-uhF",
        "outputId": "4074825e-42c5-4bc3-c82d-28faabbe7765"
      },
      "execution_count": null,
      "outputs": [
        {
          "output_type": "stream",
          "name": "stdout",
          "text": [
            "Masukkan nilai a: 10\n",
            "Masukkan nilai b: 3\n",
            "Hasil penjumlahan 10 + 3 = 13\n",
            "Hasil pembagian 10 / 3 = 3.33\n"
          ]
        }
      ]
    },
    {
      "cell_type": "markdown",
      "source": [
        "Praktikum 6 Casting String"
      ],
      "metadata": {
        "id": "dH7ZGClu-u2c"
      }
    },
    {
      "cell_type": "code",
      "source": [
        "angka = 123\n",
        "teks = \"456\"\n",
        "\n",
        "print(\"Nilai: \" + str(angka))\n",
        "print(int(teks) + 10)"
      ],
      "metadata": {
        "colab": {
          "base_uri": "https://localhost:8080/"
        },
        "id": "59gM1tM0-zd2",
        "outputId": "af1391c2-af9c-4d70-df98-dfa063ba0a99"
      },
      "execution_count": null,
      "outputs": [
        {
          "output_type": "stream",
          "name": "stdout",
          "text": [
            "Nilai: 123\n",
            "466\n"
          ]
        }
      ]
    },
    {
      "cell_type": "markdown",
      "source": [
        "Praktikum 7 Studi Kasus Analisis Kalimat"
      ],
      "metadata": {
        "id": "fm44s5-p-z5n"
      }
    },
    {
      "cell_type": "code",
      "source": [
        "kalimat = \"Saya kuliah di Politeknik Negeri Semarang\"\n",
        "daftar_kata = kalimat.split(\" \")\n",
        "\n",
        "print(f\"Jumlah kata: {len(daftar_kata)}\")\n",
        "\n",
        "for i, kata in enumerate(daftar_kata, start=1):\n",
        "    print(i, kata)"
      ],
      "metadata": {
        "colab": {
          "base_uri": "https://localhost:8080/"
        },
        "id": "CtIy955jAwu_",
        "outputId": "ab8b1847-7466-48b8-ede2-f7673534e8f1"
      },
      "execution_count": null,
      "outputs": [
        {
          "output_type": "stream",
          "name": "stdout",
          "text": [
            "Jumlah kata: 6\n",
            "1 Saya\n",
            "2 kuliah\n",
            "3 di\n",
            "4 Politeknik\n",
            "5 Negeri\n",
            "6 Semarang\n"
          ]
        }
      ]
    },
    {
      "cell_type": "markdown",
      "source": [
        "Penugasan 3 Indexing dan Slicing"
      ],
      "metadata": {
        "id": "QuKiU5TKAzIb"
      }
    },
    {
      "cell_type": "code",
      "source": [
        "teks = \"Politeknik Negeri Semarang\"\n",
        "\n",
        "# Huruf pertama\n",
        "print(\"Huruf pertama:\", teks[0])\n",
        "\n",
        "# Huruf terakhir\n",
        "print(\"Huruf terakhir:\", teks[-1])\n",
        "\n",
        "# Kata 'Negeri' menggunakan slicing\n",
        "print(\"Kata 'Negeri':\", teks[12:18])"
      ],
      "metadata": {
        "colab": {
          "base_uri": "https://localhost:8080/"
        },
        "id": "46likK67AxSe",
        "outputId": "58bd7719-ec59-447d-99ff-0c178ff87591"
      },
      "execution_count": null,
      "outputs": [
        {
          "output_type": "stream",
          "name": "stdout",
          "text": [
            "Huruf pertama: P\n",
            "Huruf terakhir: g\n",
            "Kata 'Negeri': egeri \n"
          ]
        }
      ]
    },
    {
      "cell_type": "markdown",
      "source": [
        "Penugasan 4 Manipulasi String"
      ],
      "metadata": {
        "id": "7DcgI9bpBH6B"
      }
    },
    {
      "cell_type": "code",
      "source": [
        "kalimat = input(\"Masukkan sebuah kalimat: \")\n",
        "\n",
        "print(\"Huruf kapital :\", kalimat.upper())\n",
        "print(\"Huruf kecil   :\", kalimat.lower())\n",
        "print(\"Panjang kalimat:\", len(kalimat))"
      ],
      "metadata": {
        "colab": {
          "base_uri": "https://localhost:8080/"
        },
        "id": "Jp70K946BAHh",
        "outputId": "d92a5917-6762-4e74-9881-578de314346d"
      },
      "execution_count": null,
      "outputs": [
        {
          "output_type": "stream",
          "name": "stdout",
          "text": [
            "Masukkan sebuah kalimat: RASYA\n",
            "Huruf kapital : RASYA\n",
            "Huruf kecil   : rasya\n",
            "Panjang kalimat: 5\n"
          ]
        }
      ]
    },
    {
      "cell_type": "markdown",
      "source": [
        "Penugasan 5 Validasi Username"
      ],
      "metadata": {
        "id": "roLYvyH8BfWS"
      }
    },
    {
      "cell_type": "code",
      "source": [
        "username = input(\"Masukkan username: \")\n",
        "\n",
        "if \" \" in username:\n",
        "    print(\"Error: Username tidak boleh mengandung spasi!\")\n",
        "else:\n",
        "    print(\"Username valid.\")"
      ],
      "metadata": {
        "colab": {
          "base_uri": "https://localhost:8080/"
        },
        "id": "81C7-rS-BN2e",
        "outputId": "33848221-71e4-4544-ab56-963d72c520c1"
      },
      "execution_count": null,
      "outputs": [
        {
          "output_type": "stream",
          "name": "stdout",
          "text": [
            "Masukkan username: rasya pw\n",
            "Error: Username tidak boleh mengandung spasi!\n"
          ]
        }
      ]
    },
    {
      "cell_type": "markdown",
      "source": [
        "Penugasan 6 String Formatting dengan F-String"
      ],
      "metadata": {
        "id": "VkkMdljKCIxd"
      }
    },
    {
      "cell_type": "code",
      "source": [
        "nama = input(\"Masukkan nama: \")\n",
        "umur = input(\"Masukkan umur: \")\n",
        "jurusan = input(\"Masukkan jurusan: \")\n",
        "\n",
        "print(f\"Nama: {nama}  Umur: {umur}\")\n",
        "print(f\"Jurusan: {jurusan}\")"
      ],
      "metadata": {
        "colab": {
          "base_uri": "https://localhost:8080/"
        },
        "id": "qWNzp38nBqH3",
        "outputId": "664bc004-1ac5-4dd8-e02e-3821f7e0946a"
      },
      "execution_count": null,
      "outputs": [
        {
          "output_type": "stream",
          "name": "stdout",
          "text": [
            "Masukkan nama: Andi\n",
            "Masukkan umur: 20\n",
            "Masukkan jurusan: Teknologi Rekayasa Komputer\n",
            "Nama: Andi  Umur: 20\n",
            "Jurusan: Teknologi Rekayasa Komputer\n"
          ]
        }
      ]
    },
    {
      "cell_type": "markdown",
      "source": [
        "Penugasan 7 Operasi Dalam F-String"
      ],
      "metadata": {
        "id": "mAYjbVwoCRKA"
      }
    },
    {
      "cell_type": "code",
      "source": [
        "a = float(input(\"Masukkan bilangan pertama: \"))\n",
        "b = float(input(\"Masukkan bilangan kedua: \"))\n",
        "\n",
        "print(f\"Penjumlahan: {a + b}\")\n",
        "print(f\"Perkalian: {a * b}\")\n",
        "print(f\"Pembagian: {a / b:.3f}\")"
      ],
      "metadata": {
        "colab": {
          "base_uri": "https://localhost:8080/"
        },
        "id": "XkRmcy1sCVxN",
        "outputId": "693f0fa2-e614-4168-f2de-d6d78f64402e"
      },
      "execution_count": null,
      "outputs": [
        {
          "output_type": "stream",
          "name": "stdout",
          "text": [
            "Masukkan bilangan pertama: 50\n",
            "Masukkan bilangan kedua: 10\n",
            "Penjumlahan: 60.0\n",
            "Perkalian: 500.0\n",
            "Pembagian: 5.000\n"
          ]
        }
      ]
    },
    {
      "cell_type": "markdown",
      "source": [
        "Penugasan 8 Casting Data"
      ],
      "metadata": {
        "id": "M_o1FX1fCWIF"
      }
    },
    {
      "cell_type": "code",
      "source": [
        "angka = input(\"Masukkan sebuah angka: \")\n",
        "\n",
        "# Ubah ke integer dan hitung kuadrat\n",
        "kuadrat = int(angka) ** 2\n",
        "\n",
        "# Ubah ke float dan tampilkan dengan 2 angka di belakang koma\n",
        "float_angka = float(angka)\n",
        "\n",
        "print(f\"Hasil kuadrat (int): {kuadrat}\")\n",
        "print(f\"Sebagai float: {float_angka:.2f}\")"
      ],
      "metadata": {
        "colab": {
          "base_uri": "https://localhost:8080/"
        },
        "id": "K3XxRT30CXw9",
        "outputId": "7504c3e7-d37a-44bf-c4f8-8e39fe1777d4"
      },
      "execution_count": null,
      "outputs": [
        {
          "output_type": "stream",
          "name": "stdout",
          "text": [
            "Masukkan sebuah angka: 10\n",
            "Hasil kuadrat (int): 100\n",
            "Sebagai float: 10.00\n"
          ]
        }
      ]
    },
    {
      "cell_type": "markdown",
      "source": [
        "Penugasan 9 Studi Kasus - Analisis Teks"
      ],
      "metadata": {
        "id": "bLvxMAhCCYPb"
      }
    },
    {
      "cell_type": "code",
      "source": [
        "kalimat = input(\"Masukkan sebuah kalimat: \")\n",
        "\n",
        "# Pisahkan kalimat menjadi daftar kata\n",
        "daftar_kata = kalimat.split()\n",
        "\n",
        "# Hitung jumlah kata\n",
        "jumlah_kata = len(daftar_kata)\n",
        "\n",
        "# Kata terpanjang\n",
        "kata_terpanjang = max(daftar_kata, key=len)\n",
        "\n",
        "# Urutkan kata secara abjad\n",
        "urutan_abjad = sorted(daftar_kata)\n",
        "\n",
        "print(f\"Jumlah kata: {jumlah_kata}\")\n",
        "print(f\"Kata terpanjang: {kata_terpanjang}\")\n",
        "print(\"Urutan abjad:\", urutan_abjad)"
      ],
      "metadata": {
        "colab": {
          "base_uri": "https://localhost:8080/"
        },
        "id": "S1JXtu1wCbey",
        "outputId": "a53674de-ca1b-472f-9db6-2296632582b8"
      },
      "execution_count": null,
      "outputs": [
        {
          "output_type": "stream",
          "name": "stdout",
          "text": [
            "Masukkan sebuah kalimat: rasya\n",
            "Jumlah kata: 1\n",
            "Kata terpanjang: rasya\n",
            "Urutan abjad: ['rasya']\n"
          ]
        }
      ]
    }
  ]
}